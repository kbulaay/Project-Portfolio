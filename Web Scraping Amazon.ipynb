{
 "cells": [
  {
   "cell_type": "code",
   "execution_count": null,
   "id": "f881a3cf-906a-4c18-acd2-2ea4e39674dc",
   "metadata": {},
   "outputs": [],
   "source": [
    "# Import libraries"
   ]
  },
  {
   "cell_type": "code",
   "execution_count": 70,
   "id": "35eeb610",
   "metadata": {},
   "outputs": [],
   "source": [
    "import requests\n",
    "from bs4 import BeautifulSoup\n",
    "import time\n",
    "import datetime\n",
    "import pandas as pd\n",
    "\n",
    "import smtplib"
   ]
  },
  {
   "cell_type": "code",
   "execution_count": 71,
   "id": "6a860f4b-c0e1-4271-a1a9-6f6c2ea42cf1",
   "metadata": {},
   "outputs": [],
   "source": [
    "# Connect to Website and pull in data"
   ]
  },
  {
   "cell_type": "code",
   "execution_count": 72,
   "id": "3ad56e8b-cbe0-4f16-9ef8-99d62c38d94c",
   "metadata": {},
   "outputs": [
    {
     "name": "stdout",
     "output_type": "stream",
     "text": [
      "Requirement already satisfied: requests in /Users/kobieb/opt/anaconda3/lib/python3.9/site-packages (2.28.1)\n",
      "Requirement already satisfied: idna<4,>=2.5 in /Users/kobieb/opt/anaconda3/lib/python3.9/site-packages (from requests) (3.3)\n",
      "Requirement already satisfied: charset-normalizer<3,>=2 in /Users/kobieb/opt/anaconda3/lib/python3.9/site-packages (from requests) (2.0.4)\n",
      "Requirement already satisfied: certifi>=2017.4.17 in /Users/kobieb/opt/anaconda3/lib/python3.9/site-packages (from requests) (2022.9.24)\n",
      "Requirement already satisfied: urllib3<1.27,>=1.21.1 in /Users/kobieb/opt/anaconda3/lib/python3.9/site-packages (from requests) (1.26.11)\n"
     ]
    }
   ],
   "source": [
    "!pip install requests"
   ]
  },
  {
   "cell_type": "code",
   "execution_count": 73,
   "id": "04cde890-e6cb-48d3-b31a-c06f3a8f0d2c",
   "metadata": {},
   "outputs": [
    {
     "name": "stdout",
     "output_type": "stream",
     "text": [
      "\n",
      "            COSRX Snail Mucin 96% Power Repairing Essence 3.38 fl.oz, 100ml, Hydrating Serum for Face with Snail Secretion Filtrate for Dark Spots and Fine Lines, Not Tested on Animals, No Parabens, No Sulfates, No Phthalates, Korean Skincare\n",
      "           \n",
      "\n",
      "                        $25.00\n",
      "                       \n"
     ]
    }
   ],
   "source": [
    "#Connecting to site\n",
    "\n",
    "URL = 'https://www.amazon.com/COSRX-Repairing-Hydrating-Secretion-Phthalates/dp/B00PBX3L7K/ref=pd_bxgy_vft_none_img_sccl_1/142-0139994-1841078?pd_rd_w=oiQGY&content-id=amzn1.sym.7f0cf323-50c6-49e3-b3f9-63546bb79c92&pf_rd_p=7f0cf323-50c6-49e3-b3f9-63546bb79c92&pf_rd_r=TP2EB2V28NXTD3BN6QRW&pd_rd_wg=kMEcM&pd_rd_r=7daab1a9-84d5-403a-981c-054dea67f90c&pd_rd_i=B00PBX3L7K&psc=1'\n",
    "\n",
    "headers = {\"User-Agent\": \"Mozilla/5.0 (Macintosh; Intel Mac OS X 10_15_7) AppleWebKit/537.36 (KHTML, like Gecko) Chrome/109.0.0.0 Safari/537.36\", \"Accept-Encoding\":\"gzip, deflate\", \"Accept\":\"text/html,application/xhtml+xml,application/xml;q=0.9,*/*;q=0.8\", \"DNT\":\"1\",\"Connection\":\"close\", \"Upgrade-Insecure-Requests\":\"1\"}\n",
    "\n",
    "page = requests.get(URL, headers=headers)\n",
    "\n",
    "soup1 = BeautifulSoup(page.content, \"html.parser\")\n",
    "\n",
    "soup2 = BeautifulSoup(soup1.prettify(), \"html.parser\")\n",
    "\n",
    "title = soup2.find(id='productTitle').get_text()\n",
    "\n",
    "price = soup2.find('span', {'class': 'a-offscreen'}).text\n",
    "\n",
    "print(title)\n",
    "print(price)"
   ]
  },
  {
   "cell_type": "code",
   "execution_count": 74,
   "id": "d9de2a72-985a-41c2-9018-a1dc4215e2f2",
   "metadata": {},
   "outputs": [
    {
     "name": "stdout",
     "output_type": "stream",
     "text": [
      "COSRX Snail Mucin 96% Power Repairing Essence 3.38 fl.oz, 100ml, Hydrating Serum for Face with Snail Secretion Filtrate for Dark Spots and Fine Lines, Not Tested on Animals, No Parabens, No Sulfates, No Phthalates, Korean Skincare\n",
      "25.00\n"
     ]
    }
   ],
   "source": [
    "price = price.strip()[1:]\n",
    "title = title.strip()\n",
    "\n",
    "print(title)\n",
    "print(price)"
   ]
  },
  {
   "cell_type": "code",
   "execution_count": 75,
   "id": "dc7ea042-3ca3-4075-a8b0-994622cf2801",
   "metadata": {},
   "outputs": [],
   "source": [
    "# Create a timestamp to track when the data was collected in your output."
   ]
  },
  {
   "cell_type": "code",
   "execution_count": 76,
   "id": "2b5c7480-5732-4377-baec-befc0df53643",
   "metadata": {},
   "outputs": [
    {
     "name": "stdout",
     "output_type": "stream",
     "text": [
      "2023-01-18\n"
     ]
    }
   ],
   "source": [
    "import datetime\n",
    "\n",
    "today = datetime.date.today()\n",
    "\n",
    "print(today)"
   ]
  },
  {
   "cell_type": "code",
   "execution_count": 77,
   "id": "ffefb04b-100a-42da-b081-529c2e83fef4",
   "metadata": {},
   "outputs": [],
   "source": [
    "# Create CSV and write headers and data into the file"
   ]
  },
  {
   "cell_type": "code",
   "execution_count": 78,
   "id": "5b57440a-2958-4362-a72d-14548b03251a",
   "metadata": {},
   "outputs": [],
   "source": [
    "import csv \n",
    "                \n",
    "header = ['Title', 'Price', 'Date']\n",
    "data = [title, price, today]\n",
    "\n",
    "\n",
    "with open('AmazonWebScraperDataset.csv', 'w', newline='', encoding='UTF8') as f:\n",
    "    writer = csv.writer(f)\n",
    "    writer.writerow(header)\n",
    "    writer.writerow(data)"
   ]
  },
  {
   "cell_type": "code",
   "execution_count": 81,
   "id": "5e540eea-771d-4b2c-999b-0d4e741ce4f4",
   "metadata": {},
   "outputs": [
    {
     "name": "stdout",
     "output_type": "stream",
     "text": [
      "                                               Title  Price        Date\n",
      "0  COSRX Snail Mucin 96% Power Repairing Essence ...   25.0  2023-01-18\n"
     ]
    }
   ],
   "source": [
    "df = pd.read_csv('~/Desktop/AmazonWebScraperDataset.csv')\n",
    "\n",
    "print(df)"
   ]
  },
  {
   "cell_type": "code",
   "execution_count": 80,
   "id": "f16bfbf7-fbc3-48bc-ae5d-f2ab09c245bb",
   "metadata": {},
   "outputs": [],
   "source": [
    "# We are now adding data to the CSV file."
   ]
  },
  {
   "cell_type": "code",
   "execution_count": 82,
   "id": "fde374f8-50c9-42c6-9c9a-5431b8e7c02d",
   "metadata": {},
   "outputs": [],
   "source": [
    "with open('AmazonWebScraperDataset.csv', 'a+', newline='', encoding='UTF8') as f:\n",
    "    writer = csv.writer(f)\n",
    "    writer.writerow(data)"
   ]
  },
  {
   "cell_type": "code",
   "execution_count": 86,
   "id": "56794135-c36c-41e5-87ad-0afa5a7e95ea",
   "metadata": {},
   "outputs": [],
   "source": [
    "\n",
    "def check_price():\n",
    "    URL = 'https://www.amazon.com/COSRX-Repairing-Hydrating-Secretion-Phthalates/dp/B00PBX3L7K/ref=pd_bxgy_vft_none_img_sccl_1/142-0139994-1841078?pd_rd_w=oiQGY&content-id=amzn1.sym.7f0cf323-50c6-49e3-b3f9-63546bb79c92&pf_rd_p=7f0cf323-50c6-49e3-b3f9-63546bb79c92&pf_rd_r=TP2EB2V28NXTD3BN6QRW&pd_rd_wg=kMEcM&pd_rd_r=7daab1a9-84d5-403a-981c-054dea67f90c&pd_rd_i=B00PBX3L7K&psc=1'\n",
    "\n",
    "    headers = {\"User-Agent\": \"Mozilla/5.0 (Macintosh; Intel Mac OS X 10_15_7) AppleWebKit/537.36 (KHTML, like Gecko) Chrome/109.0.0.0 Safari/537.36\", \"Accept-Encoding\":\"gzip, deflate\", \"Accept\":\"text/html,application/xhtml+xml,application/xml;q=0.9,*/*;q=0.8\", \"DNT\":\"1\",\"Connection\":\"close\", \"Upgrade-Insecure-Requests\":\"1\"}\n",
    "\n",
    "    page = requests.get(URL, headers=headers)\n",
    "\n",
    "    soup1 = BeautifulSoup(page.content, \"html.parser\")\n",
    "\n",
    "    soup2 = BeautifulSoup(soup1.prettify(), \"html.parser\")\n",
    "\n",
    "    title = soup2.find(id='productTitle').get_text()\n",
    "\n",
    "    price = soup2.find('span', {'class': 'a-offscreen'}).text\n",
    "    \n",
    "    price = price.strip()[1:]\n",
    "    title = title.strip()\n",
    "    \n",
    "    import datetime\n",
    "\n",
    "    today = datetime.date.today()\n",
    "    \n",
    "    import csv \n",
    "                \n",
    "    header = ['Title', 'Price', 'Date']\n",
    "    data = [title, price, today]\n",
    "\n",
    "    with open('AmazonWebScraperDataset.csv', 'a+', newline='', encoding='UTF8') as f:\n",
    "        writer = csv.writer(f)\n",
    "        writer.writerow(data)"
   ]
  },
  {
   "cell_type": "code",
   "execution_count": null,
   "id": "deedb791-a703-4587-bf0e-5889c8c00389",
   "metadata": {},
   "outputs": [],
   "source": [
    "# Runs check_price after a set time and inputs data into the CSV file (check price very single day)\n",
    "\n",
    "while(True):\n",
    "    check_price()\n",
    "    time.sleep(86400)"
   ]
  },
  {
   "cell_type": "code",
   "execution_count": null,
   "id": "a4aa3fb9-ba26-461f-b114-00c0e24dedf6",
   "metadata": {},
   "outputs": [],
   "source": [
    "df = pd.read_csv('~/Desktop/AmazonWebScraperDataset.csv')\n",
    "\n",
    "print(df)"
   ]
  },
  {
   "cell_type": "code",
   "execution_count": null,
   "id": "e13a1632-e33e-4a78-a3cd-63749f7c4515",
   "metadata": {},
   "outputs": [],
   "source": [
    "# When I want it to notify me when price hits below a certain level\n",
    "# out with this script"
   ]
  },
  {
   "cell_type": "code",
   "execution_count": null,
   "id": "0ca66f34-925b-4d47-ba9e-2819139c0ce3",
   "metadata": {},
   "outputs": [],
   "source": [
    "def send_mail():\n",
    "    server = smtplib.SMTP_SSL('smtp.gmail.com',465)\n",
    "    server.ehlo()\n",
    "    #server.starttls()\n",
    "    server.ehlo()\n",
    "    server.login('kobiebulaay@gmail.com','xxxxxxxxxxxxxx')\n",
    "    \n",
    "    subject = \"The Moisturizer you want is below $20! Now is your chance to buy!\"\n",
    "    body = \"Kobie, this is the moment we have been eagerly awaiting. The opportunity to acquire the MOISTURIZER of your desires is finally here. I urge you not to squander this chance. Seize it, and make your dreams a reality! Link here: https://www.amazon.com/COSRX-Repairing-Hydrating-Secretion-Phthalates/dp/B00PBX3L7K/ref=pd_bxgy_vft_none_img_sccl_1/142-0139994-1841078?pd_rd_w=oiQGY&content-id=amzn1.sym.7f0cf323-50c6-49e3-b3f9-63546bb79c92&pf_rd_p=7f0cf323-50c6-49e3-b3f9-63546bb79c92&pf_rd_r=TP2EB2V28NXTD3BN6QRW&pd_rd_wg=kMEcM&pd_rd_r=7daab1a9-84d5-403a-981c-054dea67f90c&pd_rd_i=B00PBX3L7K&psc=1\"\n",
    "   \n",
    "    msg = f\"Subject: {subject}\\n\\n{body}\"\n",
    "    \n",
    "    server.sendmail(\n",
    "        'kobiebulaay@gmail.com',\n",
    "        msg\n",
    "     \n",
    "    )"
   ]
  },
  {
   "cell_type": "code",
   "execution_count": null,
   "id": "564c48d1-0c36-41de-9e10-32fde81a8aad",
   "metadata": {},
   "outputs": [],
   "source": []
  }
 ],
 "metadata": {
  "kernelspec": {
   "display_name": "Python 3 (ipykernel)",
   "language": "python",
   "name": "python3"
  },
  "language_info": {
   "codemirror_mode": {
    "name": "ipython",
    "version": 3
   },
   "file_extension": ".py",
   "mimetype": "text/x-python",
   "name": "python",
   "nbconvert_exporter": "python",
   "pygments_lexer": "ipython3",
   "version": "3.9.13"
  }
 },
 "nbformat": 4,
 "nbformat_minor": 5
}
